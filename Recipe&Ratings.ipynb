{
 "cells": [
  {
   "cell_type": "markdown",
   "metadata": {},
   "source": [
    "# Your Title Here\n",
    "\n",
    "**Name(s)**: Amjad Faiz Bin Muhamad Afandy\n",
    "\n",
    "**Website Link**: (your website link)"
   ]
  },
  {
   "cell_type": "code",
   "execution_count": 1,
   "metadata": {
    "ExecuteTime": {
     "end_time": "2019-10-31T23:36:28.652554Z",
     "start_time": "2019-10-31T23:36:27.180520Z"
    }
   },
   "outputs": [],
   "source": [
    "import pandas as pd\n",
    "import numpy as np\n",
    "from pathlib import Path\n",
    "import matplotlib.pyplot as plt\n",
    "import seaborn as sns\n",
    "import ast\n",
    "from scipy.stats import ttest_ind\n",
    "from sklearn.preprocessing import StandardScaler, OneHotEncoder\n",
    "from sklearn.compose import ColumnTransformer\n",
    "from sklearn.pipeline import Pipeline\n",
    "from sklearn.linear_model import LinearRegression\n",
    "from sklearn.metrics import mean_squared_error, mean_absolute_error, r2_score\n",
    "from sklearn.model_selection import train_test_split, cross_val_score\n",
    "from sklearn.tree import DecisionTreeRegressor\n",
    "from sklearn.ensemble import RandomForestRegressor\n",
    "\n",
    "from sklearn.model_selection import train_test_split, GridSearchCV\n",
    "from sklearn.preprocessing import StandardScaler, QuantileTransformer, OneHotEncoder, FunctionTransformer\n",
    "from sklearn.pipeline import Pipeline\n",
    "from sklearn.compose import ColumnTransformer\n",
    "from sklearn.linear_model import Lasso\n",
    "from sklearn.ensemble import RandomForestRegressor, GradientBoostingRegressor\n",
    "from sklearn.metrics import mean_squared_error, mean_absolute_error, r2_score\n",
    "\n",
    "import plotly.express as px\n",
    "pd.options.plotting.backend = 'plotly'"
   ]
  },
  {
   "cell_type": "markdown",
   "metadata": {},
   "source": [
    "## Step 1: Introduction"
   ]
  },
  {
   "cell_type": "code",
   "execution_count": 2,
   "metadata": {},
   "outputs": [],
   "source": [
    "recipes = pd.read_csv(\"data/RAW_recipes.csv\")\n",
    "interactions = pd.read_csv(\"data/RAW_interactions.csv\")"
   ]
  },
  {
   "cell_type": "code",
   "execution_count": 3,
   "metadata": {},
   "outputs": [
    {
     "name": "stdout",
     "output_type": "stream",
     "text": [
      "Recipes Dataset:\n"
     ]
    },
    {
     "data": {
      "text/html": [
       "<div>\n",
       "<style scoped>\n",
       "    .dataframe tbody tr th:only-of-type {\n",
       "        vertical-align: middle;\n",
       "    }\n",
       "\n",
       "    .dataframe tbody tr th {\n",
       "        vertical-align: top;\n",
       "    }\n",
       "\n",
       "    .dataframe thead th {\n",
       "        text-align: right;\n",
       "    }\n",
       "</style>\n",
       "<table border=\"1\" class=\"dataframe\">\n",
       "  <thead>\n",
       "    <tr style=\"text-align: right;\">\n",
       "      <th></th>\n",
       "      <th>Unnamed: 0</th>\n",
       "      <th>name</th>\n",
       "      <th>id</th>\n",
       "      <th>minutes</th>\n",
       "      <th>contributor_id</th>\n",
       "      <th>submitted</th>\n",
       "      <th>tags</th>\n",
       "      <th>nutrition</th>\n",
       "      <th>n_steps</th>\n",
       "      <th>steps</th>\n",
       "      <th>description</th>\n",
       "      <th>ingredients</th>\n",
       "      <th>n_ingredients</th>\n",
       "    </tr>\n",
       "  </thead>\n",
       "  <tbody>\n",
       "    <tr>\n",
       "      <th>0</th>\n",
       "      <td>111</td>\n",
       "      <td>1 brownies in the world    best ever</td>\n",
       "      <td>333281</td>\n",
       "      <td>40</td>\n",
       "      <td>985201</td>\n",
       "      <td>2008-10-27</td>\n",
       "      <td>['60-minutes-or-less', 'time-to-make', 'course...</td>\n",
       "      <td>[138.4, 10.0, 50.0, 3.0, 3.0, 19.0, 6.0]</td>\n",
       "      <td>10</td>\n",
       "      <td>['heat the oven to 350f and arrange the rack i...</td>\n",
       "      <td>these are the most; chocolatey, moist, rich, d...</td>\n",
       "      <td>['bittersweet chocolate', 'unsalted butter', '...</td>\n",
       "      <td>9</td>\n",
       "    </tr>\n",
       "    <tr>\n",
       "      <th>1</th>\n",
       "      <td>115</td>\n",
       "      <td>1 in canada chocolate chip cookies</td>\n",
       "      <td>453467</td>\n",
       "      <td>45</td>\n",
       "      <td>1848091</td>\n",
       "      <td>2011-04-11</td>\n",
       "      <td>['60-minutes-or-less', 'time-to-make', 'cuisin...</td>\n",
       "      <td>[595.1, 46.0, 211.0, 22.0, 13.0, 51.0, 26.0]</td>\n",
       "      <td>12</td>\n",
       "      <td>['pre-heat oven the 350 degrees f', 'in a mixi...</td>\n",
       "      <td>this is the recipe that we use at my school ca...</td>\n",
       "      <td>['white sugar', 'brown sugar', 'salt', 'margar...</td>\n",
       "      <td>11</td>\n",
       "    </tr>\n",
       "    <tr>\n",
       "      <th>2</th>\n",
       "      <td>118</td>\n",
       "      <td>412 broccoli casserole</td>\n",
       "      <td>306168</td>\n",
       "      <td>40</td>\n",
       "      <td>50969</td>\n",
       "      <td>2008-05-30</td>\n",
       "      <td>['60-minutes-or-less', 'time-to-make', 'course...</td>\n",
       "      <td>[194.8, 20.0, 6.0, 32.0, 22.0, 36.0, 3.0]</td>\n",
       "      <td>6</td>\n",
       "      <td>['preheat oven to 350 degrees', 'spray a 2 qua...</td>\n",
       "      <td>since there are already 411 recipes for brocco...</td>\n",
       "      <td>['frozen broccoli cuts', 'cream of chicken sou...</td>\n",
       "      <td>9</td>\n",
       "    </tr>\n",
       "    <tr>\n",
       "      <th>3</th>\n",
       "      <td>119</td>\n",
       "      <td>millionaire pound cake</td>\n",
       "      <td>286009</td>\n",
       "      <td>120</td>\n",
       "      <td>461724</td>\n",
       "      <td>2008-02-12</td>\n",
       "      <td>['time-to-make', 'course', 'cuisine', 'prepara...</td>\n",
       "      <td>[878.3, 63.0, 326.0, 13.0, 20.0, 123.0, 39.0]</td>\n",
       "      <td>7</td>\n",
       "      <td>['freheat the oven to 300 degrees', 'grease a ...</td>\n",
       "      <td>why a millionaire pound cake?  because it's su...</td>\n",
       "      <td>['butter', 'sugar', 'eggs', 'all-purpose flour...</td>\n",
       "      <td>7</td>\n",
       "    </tr>\n",
       "    <tr>\n",
       "      <th>4</th>\n",
       "      <td>125</td>\n",
       "      <td>2000 meatloaf</td>\n",
       "      <td>475785</td>\n",
       "      <td>90</td>\n",
       "      <td>2202916</td>\n",
       "      <td>2012-03-06</td>\n",
       "      <td>['time-to-make', 'course', 'main-ingredient', ...</td>\n",
       "      <td>[267.0, 30.0, 12.0, 12.0, 29.0, 48.0, 2.0]</td>\n",
       "      <td>17</td>\n",
       "      <td>['pan fry bacon , and set aside on a paper tow...</td>\n",
       "      <td>ready, set, cook! special edition contest entr...</td>\n",
       "      <td>['meatloaf mixture', 'unsmoked bacon', 'goat c...</td>\n",
       "      <td>13</td>\n",
       "    </tr>\n",
       "  </tbody>\n",
       "</table>\n",
       "</div>"
      ],
      "text/plain": [
       "   Unnamed: 0                                  name      id  minutes  \\\n",
       "0         111  1 brownies in the world    best ever  333281       40   \n",
       "1         115    1 in canada chocolate chip cookies  453467       45   \n",
       "2         118                412 broccoli casserole  306168       40   \n",
       "3         119                millionaire pound cake  286009      120   \n",
       "4         125                         2000 meatloaf  475785       90   \n",
       "\n",
       "   contributor_id   submitted  \\\n",
       "0          985201  2008-10-27   \n",
       "1         1848091  2011-04-11   \n",
       "2           50969  2008-05-30   \n",
       "3          461724  2008-02-12   \n",
       "4         2202916  2012-03-06   \n",
       "\n",
       "                                                tags  \\\n",
       "0  ['60-minutes-or-less', 'time-to-make', 'course...   \n",
       "1  ['60-minutes-or-less', 'time-to-make', 'cuisin...   \n",
       "2  ['60-minutes-or-less', 'time-to-make', 'course...   \n",
       "3  ['time-to-make', 'course', 'cuisine', 'prepara...   \n",
       "4  ['time-to-make', 'course', 'main-ingredient', ...   \n",
       "\n",
       "                                       nutrition  n_steps  \\\n",
       "0       [138.4, 10.0, 50.0, 3.0, 3.0, 19.0, 6.0]       10   \n",
       "1   [595.1, 46.0, 211.0, 22.0, 13.0, 51.0, 26.0]       12   \n",
       "2      [194.8, 20.0, 6.0, 32.0, 22.0, 36.0, 3.0]        6   \n",
       "3  [878.3, 63.0, 326.0, 13.0, 20.0, 123.0, 39.0]        7   \n",
       "4     [267.0, 30.0, 12.0, 12.0, 29.0, 48.0, 2.0]       17   \n",
       "\n",
       "                                               steps  \\\n",
       "0  ['heat the oven to 350f and arrange the rack i...   \n",
       "1  ['pre-heat oven the 350 degrees f', 'in a mixi...   \n",
       "2  ['preheat oven to 350 degrees', 'spray a 2 qua...   \n",
       "3  ['freheat the oven to 300 degrees', 'grease a ...   \n",
       "4  ['pan fry bacon , and set aside on a paper tow...   \n",
       "\n",
       "                                         description  \\\n",
       "0  these are the most; chocolatey, moist, rich, d...   \n",
       "1  this is the recipe that we use at my school ca...   \n",
       "2  since there are already 411 recipes for brocco...   \n",
       "3  why a millionaire pound cake?  because it's su...   \n",
       "4  ready, set, cook! special edition contest entr...   \n",
       "\n",
       "                                         ingredients  n_ingredients  \n",
       "0  ['bittersweet chocolate', 'unsalted butter', '...              9  \n",
       "1  ['white sugar', 'brown sugar', 'salt', 'margar...             11  \n",
       "2  ['frozen broccoli cuts', 'cream of chicken sou...              9  \n",
       "3  ['butter', 'sugar', 'eggs', 'all-purpose flour...              7  \n",
       "4  ['meatloaf mixture', 'unsmoked bacon', 'goat c...             13  "
      ]
     },
     "metadata": {},
     "output_type": "display_data"
    }
   ],
   "source": [
    "print(\"Recipes Dataset:\")\n",
    "display(recipes.head())"
   ]
  },
  {
   "cell_type": "code",
   "execution_count": 4,
   "metadata": {},
   "outputs": [
    {
     "name": "stdout",
     "output_type": "stream",
     "text": [
      "\n",
      "Interactions Dataset:\n"
     ]
    },
    {
     "data": {
      "text/html": [
       "<div>\n",
       "<style scoped>\n",
       "    .dataframe tbody tr th:only-of-type {\n",
       "        vertical-align: middle;\n",
       "    }\n",
       "\n",
       "    .dataframe tbody tr th {\n",
       "        vertical-align: top;\n",
       "    }\n",
       "\n",
       "    .dataframe thead th {\n",
       "        text-align: right;\n",
       "    }\n",
       "</style>\n",
       "<table border=\"1\" class=\"dataframe\">\n",
       "  <thead>\n",
       "    <tr style=\"text-align: right;\">\n",
       "      <th></th>\n",
       "      <th>user_id</th>\n",
       "      <th>recipe_id</th>\n",
       "      <th>date</th>\n",
       "      <th>rating</th>\n",
       "      <th>review</th>\n",
       "    </tr>\n",
       "  </thead>\n",
       "  <tbody>\n",
       "    <tr>\n",
       "      <th>0</th>\n",
       "      <td>1293707</td>\n",
       "      <td>40893</td>\n",
       "      <td>2011-12-21</td>\n",
       "      <td>5</td>\n",
       "      <td>So simple, so delicious! Great for chilly fall...</td>\n",
       "    </tr>\n",
       "    <tr>\n",
       "      <th>1</th>\n",
       "      <td>126440</td>\n",
       "      <td>85009</td>\n",
       "      <td>2010-02-27</td>\n",
       "      <td>5</td>\n",
       "      <td>I made the Mexican topping and took it to bunk...</td>\n",
       "    </tr>\n",
       "    <tr>\n",
       "      <th>2</th>\n",
       "      <td>57222</td>\n",
       "      <td>85009</td>\n",
       "      <td>2011-10-01</td>\n",
       "      <td>5</td>\n",
       "      <td>Made the cheddar bacon topping, adding a sprin...</td>\n",
       "    </tr>\n",
       "    <tr>\n",
       "      <th>3</th>\n",
       "      <td>124416</td>\n",
       "      <td>120345</td>\n",
       "      <td>2011-08-06</td>\n",
       "      <td>0</td>\n",
       "      <td>Just an observation, so I will not rate.  I fo...</td>\n",
       "    </tr>\n",
       "    <tr>\n",
       "      <th>4</th>\n",
       "      <td>2000192946</td>\n",
       "      <td>120345</td>\n",
       "      <td>2015-05-10</td>\n",
       "      <td>2</td>\n",
       "      <td>This recipe was OVERLY too sweet.  I would sta...</td>\n",
       "    </tr>\n",
       "  </tbody>\n",
       "</table>\n",
       "</div>"
      ],
      "text/plain": [
       "      user_id  recipe_id        date  rating  \\\n",
       "0     1293707      40893  2011-12-21       5   \n",
       "1      126440      85009  2010-02-27       5   \n",
       "2       57222      85009  2011-10-01       5   \n",
       "3      124416     120345  2011-08-06       0   \n",
       "4  2000192946     120345  2015-05-10       2   \n",
       "\n",
       "                                              review  \n",
       "0  So simple, so delicious! Great for chilly fall...  \n",
       "1  I made the Mexican topping and took it to bunk...  \n",
       "2  Made the cheddar bacon topping, adding a sprin...  \n",
       "3  Just an observation, so I will not rate.  I fo...  \n",
       "4  This recipe was OVERLY too sweet.  I would sta...  "
      ]
     },
     "metadata": {},
     "output_type": "display_data"
    }
   ],
   "source": [
    "print(\"\\nInteractions Dataset:\")\n",
    "display(interactions.head())"
   ]
  },
  {
   "cell_type": "markdown",
   "metadata": {},
   "source": [
    "\n",
    "### Research Question\n",
    "**Does the number of ingredients in a recipe impact its rating?**\n",
    "\n",
    "### Why is this question interesting?\n",
    "- Online recipe platforms rely heavily on user ratings to recommend recipes.\n",
    "- Understanding whether ingredient count affects ratings can help optimize recipe recommendations.\n",
    "- If ingredient count influences ratings, recipe creators can adjust their ingredient lists for better reception.\n",
    "\n",
    "### Data Features\n",
    "| Column         | Description                                               | Unique Values or Range |\n",
    "|---------------|-----------------------------------------------------------|------------------------|\n",
    "| **`id`**      | Recipe ID                                                 | Unique ID values      |\n",
    "| **`n_ingredients`** | Number of ingredients used in the recipe               | Integer values       |\n",
    "| **`rating`**  | Rating given by users in interactions                     | Integer (1-5)        |\n",
    "| **`recipe_id`** | ID linking recipes and interactions                      | Unique ID values     |\n",
    "\n",
    "### Analysis Plan\n",
    "1. **Exploratory Data Analysis (EDA):**\n",
    "   - Explore distributions of `n_ingredients` and `rating`.\n",
    "   - Identify potential outliers and trends.\n",
    "2. **Statistical Analysis:**\n",
    "   - Calculate correlation between `n_ingredients` and `rating`.\n",
    "   - Perform hypothesis testing to determine if the number of ingredients significantly affects ratings.\n",
    "3. **Visualization:**\n",
    "   - Use histograms, scatter plots, and box plots to analyze the relationship between `n_ingredients` and `rating`.\n",
    "   - Interpret results and derive meaningful insights.\n"
   ]
  },
  {
   "cell_type": "code",
   "execution_count": 5,
   "metadata": {},
   "outputs": [
    {
     "name": "stdout",
     "output_type": "stream",
     "text": [
      "\n",
      "Checking key columns in Recipes dataset:\n",
      "                  id  n_ingredients\n",
      "count   83782.000000   83782.000000\n",
      "mean   381430.405529       9.214020\n",
      "std     68715.482810       3.830465\n",
      "min    275022.000000       1.000000\n",
      "25%    321548.500000       6.000000\n",
      "50%    374472.500000       9.000000\n",
      "75%    436200.750000      12.000000\n",
      "max    537716.000000      37.000000\n",
      "\n",
      "Checking key columns in Interactions dataset:\n",
      "           recipe_id         rating\n",
      "count  731927.000000  731927.000000\n",
      "mean   199072.789393       4.332634\n",
      "std    140971.727639       1.393705\n",
      "min        38.000000       0.000000\n",
      "25%     74844.000000       4.000000\n",
      "50%    174735.000000       5.000000\n",
      "75%    308927.000000       5.000000\n",
      "max    537716.000000       5.000000\n",
      "\n",
      "Merged dataset sample:\n"
     ]
    },
    {
     "data": {
      "text/html": [
       "<div>\n",
       "<style scoped>\n",
       "    .dataframe tbody tr th:only-of-type {\n",
       "        vertical-align: middle;\n",
       "    }\n",
       "\n",
       "    .dataframe tbody tr th {\n",
       "        vertical-align: top;\n",
       "    }\n",
       "\n",
       "    .dataframe thead th {\n",
       "        text-align: right;\n",
       "    }\n",
       "</style>\n",
       "<table border=\"1\" class=\"dataframe\">\n",
       "  <thead>\n",
       "    <tr style=\"text-align: right;\">\n",
       "      <th></th>\n",
       "      <th>id</th>\n",
       "      <th>n_ingredients</th>\n",
       "      <th>rating</th>\n",
       "    </tr>\n",
       "  </thead>\n",
       "  <tbody>\n",
       "    <tr>\n",
       "      <th>0</th>\n",
       "      <td>333281</td>\n",
       "      <td>9</td>\n",
       "      <td>4</td>\n",
       "    </tr>\n",
       "    <tr>\n",
       "      <th>1</th>\n",
       "      <td>453467</td>\n",
       "      <td>11</td>\n",
       "      <td>5</td>\n",
       "    </tr>\n",
       "    <tr>\n",
       "      <th>2</th>\n",
       "      <td>306168</td>\n",
       "      <td>9</td>\n",
       "      <td>5</td>\n",
       "    </tr>\n",
       "    <tr>\n",
       "      <th>3</th>\n",
       "      <td>306168</td>\n",
       "      <td>9</td>\n",
       "      <td>5</td>\n",
       "    </tr>\n",
       "    <tr>\n",
       "      <th>4</th>\n",
       "      <td>306168</td>\n",
       "      <td>9</td>\n",
       "      <td>5</td>\n",
       "    </tr>\n",
       "  </tbody>\n",
       "</table>\n",
       "</div>"
      ],
      "text/plain": [
       "       id  n_ingredients  rating\n",
       "0  333281              9       4\n",
       "1  453467             11       5\n",
       "2  306168              9       5\n",
       "3  306168              9       5\n",
       "4  306168              9       5"
      ]
     },
     "metadata": {},
     "output_type": "display_data"
    }
   ],
   "source": [
    "# Check key columns\n",
    "print(\"\\nChecking key columns in Recipes dataset:\")\n",
    "print(recipes[['id', 'n_ingredients']].describe())\n",
    "\n",
    "print(\"\\nChecking key columns in Interactions dataset:\")\n",
    "print(interactions[['recipe_id', 'rating']].describe())\n",
    "\n",
    "# Merge datasets to get full information\n",
    "merged_df = recipes.merge(interactions, left_on='id', right_on='recipe_id', how='inner')\n",
    "\n",
    "# Keep only relevant columns\n",
    "merged_df = merged_df[['id', 'n_ingredients', 'rating']]\n",
    "\n",
    "print(\"\\nMerged dataset sample:\")\n",
    "display(merged_df.head())"
   ]
  },
  {
   "cell_type": "markdown",
   "metadata": {},
   "source": [
    "## Step 2: Data Cleaning and Exploratory Data Analysis"
   ]
  },
  {
   "cell_type": "markdown",
   "metadata": {},
   "source": [
    "### Data Cleaning\n",
    "- Merged the `recipes` and `interactions` datasets using `id` and `recipe_id`.\n",
    "- Selected only relevant columns: `id`, `n_ingredients`, and `rating`.\n",
    "- Dropped duplicate entries to ensure data integrity.\n",
    "- Checked for missing values in key columns (none required action)."
   ]
  },
  {
   "cell_type": "code",
   "execution_count": 6,
   "metadata": {
    "ExecuteTime": {
     "end_time": "2019-10-31T23:36:28.657068Z",
     "start_time": "2019-10-31T23:36:28.654650Z"
    }
   },
   "outputs": [],
   "source": [
    "# Compute average rating per recipe\n",
    "avg_ratings = merged_df.groupby('id')['rating'].mean().rename('avg_rating')\n",
    "\n",
    "# Merge back into the recipes dataset\n",
    "recipes = recipes.merge(avg_ratings, left_on='id', right_index=True, how='left')\n",
    "\n",
    "# Merge datasets\n",
    "merged_df = recipes.merge(interactions, left_on='id', right_on='recipe_id', how='inner')\n",
    "merged_df = merged_df[['id', 'n_ingredients', 'rating']]\n",
    "\n",
    "# Drop duplicates (if any)\n",
    "merged_df = merged_df.drop_duplicates()\n",
    "\n",
    "# Replace ratings of 0 with NaN\n",
    "merged_df['rating'] = merged_df['rating'].replace(0, np.nan)"
   ]
  },
  {
   "cell_type": "markdown",
   "metadata": {},
   "source": [
    "### Exploratory Data Analysis (EDA)\n",
    "We analyze the dataset using:\n",
    "- **Univariate Analysis**: Examining the distribution of `n_ingredients` and `rating`.\n",
    "- **Bivariate Analysis**: Understanding relationships between `n_ingredients` and `rating`.\n",
    "- **Aggregate Analysis**: Computing mean rating per number of ingredients.\n",
    "\"\"\""
   ]
  },
  {
   "cell_type": "markdown",
   "metadata": {},
   "source": [
    "### Summary Statistics\n",
    "Checking the overall statistics of the dataset to understand key metrics."
   ]
  },
  {
   "cell_type": "code",
   "execution_count": 7,
   "metadata": {},
   "outputs": [
    {
     "name": "stdout",
     "output_type": "stream",
     "text": [
      "Summary Statistics:\n",
      "                  id  n_ingredients         rating\n",
      "count  114788.000000  114788.000000  104259.000000\n",
      "mean   377553.247439       9.197590       4.467039\n",
      "std     68115.996116       3.813044       0.874468\n",
      "min    275022.000000       1.000000       1.000000\n",
      "25%    318412.000000       6.000000       4.000000\n",
      "50%    369995.000000       9.000000       5.000000\n",
      "75%    429393.000000      11.000000       5.000000\n",
      "max    537716.000000      37.000000       5.000000\n"
     ]
    }
   ],
   "source": [
    "print(\"Summary Statistics:\")\n",
    "print(merged_df.describe())"
   ]
  },
  {
   "cell_type": "markdown",
   "metadata": {},
   "source": [
    "### Univariate Analysis\n",
    "#### Distribution of Number of Ingredients\n",
    "This plot shows the frequency of different ingredient counts in recipes."
   ]
  },
  {
   "cell_type": "code",
   "execution_count": 8,
   "metadata": {},
   "outputs": [
    {
     "data": {
      "image/png": "[encoded data removed]",
      "text/plain": [
       "<Figure size 1000x500 with 1 Axes>"
      ]
     },
     "metadata": {},
     "output_type": "display_data"
    }
   ],
   "source": [
    "plt.figure(figsize=(10, 5))\n",
    "sns.histplot(merged_df['n_ingredients'], bins=30, kde=True, color='blue')\n",
    "plt.title('Distribution of Number of Ingredients')\n",
    "plt.xlabel('Number of Ingredients')\n",
    "plt.ylabel('Frequency')\n",
    "plt.show()"
   ]
  },
  {
   "cell_type": "markdown",
   "metadata": {},
   "source": [
    "#### Distribution of Ratings\n",
    "This plot shows how ratings are distributed among recipes."
   ]
  },
  {
   "cell_type": "code",
   "execution_count": 9,
   "metadata": {},
   "outputs": [
    {
     "data": {
      "image/png": "[encoded data removed]",
      "text/plain": [
       "<Figure size 1000x500 with 1 Axes>"
      ]
     },
     "metadata": {},
     "output_type": "display_data"
    }
   ],
   "source": [
    "plt.figure(figsize=(10, 5))\n",
    "sns.histplot(merged_df['rating'], bins=5, kde=True, color='green')\n",
    "plt.title('Distribution of Ratings')\n",
    "plt.xlabel('Rating')\n",
    "plt.ylabel('Frequency')\n",
    "plt.show()"
   ]
  },
  {
   "cell_type": "markdown",
   "metadata": {},
   "source": [
    "### Bivariate Analysis\n",
    "#### Scatter plot: Ingredients vs. Rating\n",
    "This plot examines whether there is a relationship between the number of ingredients in a recipe and its rating."
   ]
  },
  {
   "cell_type": "code",
   "execution_count": 10,
   "metadata": {},
   "outputs": [
    {
     "data": {
      "image/png": "[encoded data removed]",
      "text/plain": [
       "<Figure size 1000x500 with 1 Axes>"
      ]
     },
     "metadata": {},
     "output_type": "display_data"
    }
   ],
   "source": [
    "plt.figure(figsize=(10, 5))\n",
    "sns.scatterplot(data=merged_df, x='n_ingredients', y='rating', alpha=0.5)\n",
    "plt.title('Number of Ingredients vs. Rating')\n",
    "plt.xlabel('Number of Ingredients')\n",
    "plt.ylabel('Rating')\n",
    "plt.show()"
   ]
  },
  {
   "cell_type": "markdown",
   "metadata": {},
   "source": [
    "#### Box plot: Rating distribution grouped by ingredient count\n",
    "This visualization helps us see how ratings vary across different ingredient counts."
   ]
  },
  {
   "cell_type": "code",
   "execution_count": 11,
   "metadata": {},
   "outputs": [
    {
     "data": {
      "image/png": "[encoded data removed]",
      "text/plain": [
       "<Figure size 1200x600 with 1 Axes>"
      ]
     },
     "metadata": {},
     "output_type": "display_data"
    }
   ],
   "source": [
    "plt.figure(figsize=(12, 6))\n",
    "sns.boxplot(data=merged_df, x='n_ingredients', y='rating')\n",
    "plt.xticks(rotation=90)\n",
    "plt.title('Rating Distribution by Number of Ingredients')\n",
    "plt.xlabel('Number of Ingredients')\n",
    "plt.ylabel('Rating')\n",
    "plt.show()"
   ]
  },
  {
   "cell_type": "markdown",
   "metadata": {},
   "source": [
    "### Aggregate Analysis\n",
    "#### Mean Rating per Ingredient Count\n",
    "Computing the mean rating for recipes with the same number of ingredients."
   ]
  },
  {
   "cell_type": "code",
   "execution_count": 12,
   "metadata": {},
   "outputs": [
    {
     "name": "stdout",
     "output_type": "stream",
     "text": [
      "\n",
      "Mean Rating per Ingredient Count:\n",
      "n_ingredients\n",
      "1     4.428571\n",
      "2     4.511577\n",
      "3     4.503798\n",
      "4     4.481461\n",
      "5     4.480127\n",
      "6     4.477799\n",
      "7     4.461020\n",
      "8     4.448070\n",
      "9     4.438073\n",
      "10    4.453414\n",
      "Name: rating, dtype: float64\n"
     ]
    }
   ],
   "source": [
    "ingredient_rating_means = merged_df.groupby('n_ingredients')['rating'].mean()\n",
    "print(\"\\nMean Rating per Ingredient Count:\")\n",
    "print(ingredient_rating_means.head(10))"
   ]
  },
  {
   "cell_type": "markdown",
   "metadata": {},
   "source": [
    "## Step 3: Assessment of Missingness"
   ]
  },
  {
   "cell_type": "markdown",
   "metadata": {
    "ExecuteTime": {
     "end_time": "2019-10-31T23:36:28.662099Z",
     "start_time": "2019-10-31T23:36:28.660016Z"
    }
   },
   "source": [
    "### 1. Checking for NMAR (Not Missing At Random)\n",
    "- NMAR missingness means that the probability of missing data depends on the missing values themselves.\n",
    "- We'll analyze whether the missing values in `description` and `review` could be NMAR.\n",
    "\n",
    "### 2️. Missingness Dependency Analysis\n",
    "- We use **permutation tests** to check whether missingness depends on other columns.\n",
    "- Example: Does missingness in `description` depend on `n_ingredients`?"
   ]
  },
  {
   "cell_type": "code",
   "execution_count": 13,
   "metadata": {},
   "outputs": [
    {
     "name": "stdout",
     "output_type": "stream",
     "text": [
      "Missing Values in Recipes Dataset:\n",
      "Unnamed: 0         0\n",
      "name               1\n",
      "id                 0\n",
      "minutes            0\n",
      "contributor_id     0\n",
      "submitted          0\n",
      "tags               0\n",
      "nutrition          0\n",
      "n_steps            0\n",
      "steps              0\n",
      "description       70\n",
      "ingredients        0\n",
      "n_ingredients      0\n",
      "avg_rating         1\n",
      "dtype: int64\n",
      "\n",
      "Missing Values in Interactions Dataset:\n",
      "user_id        0\n",
      "recipe_id      0\n",
      "date           0\n",
      "rating         0\n",
      "review       169\n",
      "dtype: int64\n"
     ]
    }
   ],
   "source": [
    "# Check missing values\n",
    "print(\"Missing Values in Recipes Dataset:\")\n",
    "print(recipes.isnull().sum())\n",
    "print(\"\\nMissing Values in Interactions Dataset:\")\n",
    "print(interactions.isnull().sum())"
   ]
  },
  {
   "cell_type": "markdown",
   "metadata": {},
   "source": [
    "### 1️. NMAR Analysis\n",
    "Checking whether `description` and `review` missingness might be NMAR.\n",
    "- If longer recipes (higher `n_ingredients`) tend to have missing descriptions, that could suggest NMAR missingness."
   ]
  },
  {
   "cell_type": "code",
   "execution_count": 14,
   "metadata": {},
   "outputs": [
    {
     "name": "stdout",
     "output_type": "stream",
     "text": [
      "Proportion of missing descriptions: 0.0008355016590675801\n"
     ]
    }
   ],
   "source": [
    "missing_description = recipes['description'].isnull()\n",
    "print(\"Proportion of missing descriptions:\", missing_description.mean())"
   ]
  },
  {
   "cell_type": "markdown",
   "metadata": {},
   "source": [
    "### 2️. Missingness Dependency Analysis (Permutation Tests)\n",
    "Testing if `description` missingness depends on `n_ingredients`."
   ]
  },
  {
   "cell_type": "code",
   "execution_count": 15,
   "metadata": {},
   "outputs": [
    {
     "name": "stdout",
     "output_type": "stream",
     "text": [
      "Observed Difference in Means: -1.4723927615771073\n",
      "P-Value: 0.002\n"
     ]
    }
   ],
   "source": [
    "def permutation_test(data, column, missing_col, n_permutations=1000):\n",
    "    \"\"\"\n",
    "    Performs a permutation test to check if missingness in `missing_col` depends on `column`.\n",
    "    \"\"\"\n",
    "    observed_stat = data.groupby(missing_col)[column].mean().diff().iloc[-1]\n",
    "    permuted_stats = []\n",
    "    \n",
    "    for _ in range(n_permutations):\n",
    "        shuffled = data[column].sample(frac=1, replace=False).reset_index(drop=True)\n",
    "        perm_data = data.assign(shuffled_col=shuffled)\n",
    "        perm_stat = perm_data.groupby(missing_col)['shuffled_col'].mean().diff().iloc[-1]\n",
    "        permuted_stats.append(perm_stat)\n",
    "    \n",
    "    p_value = np.mean(np.abs(permuted_stats) >= np.abs(observed_stat))\n",
    "    return observed_stat, p_value\n",
    "\n",
    "# Test if `description` missingness depends on `n_ingredients`\n",
    "recipes['missing_description'] = recipes['description'].isnull()\n",
    "obs_stat, p_val = permutation_test(recipes, 'n_ingredients', 'missing_description')\n",
    "\n",
    "print(\"Observed Difference in Means:\", obs_stat)\n",
    "print(\"P-Value:\", p_val)"
   ]
  },
  {
   "cell_type": "markdown",
   "metadata": {},
   "source": [
    "### Interpretation of Results\n",
    "- If p-value < 0.05: There is **evidence** that missingness in `description` is not random.\n",
    "- If p-value > 0.05: We fail to reject the null hypothesis; missingness in `description` is **random** with respect to `n_ingredients`."
   ]
  },
  {
   "cell_type": "code",
   "execution_count": 16,
   "metadata": {},
   "outputs": [
    {
     "data": {
      "image/png": "[encoded data removed]",
      "text/plain": [
       "<Figure size 1000x500 with 1 Axes>"
      ]
     },
     "metadata": {},
     "output_type": "display_data"
    }
   ],
   "source": [
    "# Visualizing Missingness\n",
    "plt.figure(figsize=(10, 5))\n",
    "sns.histplot(recipes.loc[recipes['missing_description'] == False, 'n_ingredients'], color='blue', label='Description Present', kde=True)\n",
    "sns.histplot(recipes.loc[recipes['missing_description'] == True, 'n_ingredients'], color='red', label='Description Missing', kde=True)\n",
    "plt.legend()\n",
    "plt.title(\"Distribution of `n_ingredients` Based on Description Missingness\")\n",
    "plt.show()"
   ]
  },
  {
   "cell_type": "markdown",
   "metadata": {},
   "source": [
    "### Conclusion\n",
    "- The **proportion of missing descriptions** is approximately **0.083%**.\n",
    "- The **observed difference in means** between `n_ingredients` when `description` is missing vs. present is **-1.47**.\n",
    "- The **p-value of 0.003** is less than 0.05, indicating **statistically significant evidence** that `description` missingness depends on `n_ingredients`.\n",
    "- This suggests that recipes with **fewer ingredients** are more likely to have missing descriptions, which may not be completely random.\n",
    "- Further investigation could explore potential reasons, such as user behavior or dataset-specific missingness patterns.\n",
    "\"\"\""
   ]
  },
  {
   "cell_type": "markdown",
   "metadata": {},
   "source": [
    "## Step 4: Hypothesis Testing"
   ]
  },
  {
   "cell_type": "markdown",
   "metadata": {
    "ExecuteTime": {
     "end_time": "2019-10-31T23:36:28.666489Z",
     "start_time": "2019-10-31T23:36:28.664381Z"
    }
   },
   "source": [
    "### 1️. Define Hypotheses\n",
    "- **Null Hypothesis (H₀)**: The number of ingredients in a recipe does **not** affect its rating.\n",
    "- **Alternative Hypothesis (H₁)**: The number of ingredients **does** impact the rating.\n",
    "\n",
    "### 2️. Choose a Test Statistic\n",
    "- We will use **permutation testing** to compare mean ratings of low-ingredient vs. high-ingredient recipes.\n",
    "- We will also use a **t-test** to validate the significance of the difference in means."
   ]
  },
  {
   "cell_type": "markdown",
   "metadata": {},
   "source": [
    "### Splitting Data into Groups\n",
    "- Define \"low-ingredient\" recipes as those in the bottom 50% (`n_ingredients` ≤ median).\n",
    "- Define \"high-ingredient\" recipes as those in the top 50% (`n_ingredients` > median)."
   ]
  },
  {
   "cell_type": "code",
   "execution_count": 17,
   "metadata": {},
   "outputs": [
    {
     "name": "stdout",
     "output_type": "stream",
     "text": [
      "Observed Difference in Mean Ratings: 0.0061954018352121665\n"
     ]
    }
   ],
   "source": [
    "median_ingredients = merged_df['n_ingredients'].median()\n",
    "low_ingredients = merged_df[merged_df['n_ingredients'] <= median_ingredients]\n",
    "high_ingredients = merged_df[merged_df['n_ingredients'] > median_ingredients]\n",
    "\n",
    "# Compute observed difference in mean ratings\n",
    "obs_diff = high_ingredients['rating'].mean() - low_ingredients['rating'].mean()\n",
    "print(\"Observed Difference in Mean Ratings:\", obs_diff)"
   ]
  },
  {
   "cell_type": "markdown",
   "metadata": {},
   "source": [
    "### Permutation Test\n",
    "- Shuffle `rating` values to create a null distribution.\n",
    "- Compute the difference in means under random assignments.\n",
    "- Compare observed difference to null distribution."
   ]
  },
  {
   "cell_type": "code",
   "execution_count": 18,
   "metadata": {},
   "outputs": [
    {
     "name": "stdout",
     "output_type": "stream",
     "text": [
      "P-Value from Permutation Test: 0.411\n"
     ]
    }
   ],
   "source": [
    "def permutation_test(data, column, group_col, n_permutations=1000):\n",
    "    observed_stat = data.groupby(group_col)[column].mean().diff().iloc[-1]\n",
    "    permuted_stats = []\n",
    "    \n",
    "    for _ in range(n_permutations):\n",
    "        shuffled = data[column].sample(frac=1, replace=False).reset_index(drop=True)\n",
    "        perm_data = data.assign(shuffled_col=shuffled)\n",
    "        perm_stat = perm_data.groupby(group_col)['shuffled_col'].mean().diff().iloc[-1]\n",
    "        permuted_stats.append(perm_stat)\n",
    "    \n",
    "    p_value = np.mean(np.abs(permuted_stats) >= np.abs(observed_stat))\n",
    "    return observed_stat, p_value, permuted_stats\n",
    "\n",
    "# Perform permutation test\n",
    "merged_df['ingredient_group'] = merged_df['n_ingredients'] > median_ingredients\n",
    "obs_stat, p_val, perm_distr = permutation_test(merged_df, 'rating', 'ingredient_group')\n",
    "\n",
    "print(\"P-Value from Permutation Test:\", p_val)"
   ]
  },
  {
   "cell_type": "markdown",
   "metadata": {},
   "source": [
    "### Interpret Results\n",
    "- If p-value < 0.05: **Reject H₀**, meaning the number of ingredients **does affect** ratings.\n",
    "- If p-value > 0.05: **Fail to reject H₀**, meaning there is **no significant effect** of `n_ingredients` on ratings."
   ]
  },
  {
   "cell_type": "code",
   "execution_count": 19,
   "metadata": {},
   "outputs": [
    {
     "data": {
      "image/png": "[encoded data removed]",
      "text/plain": [
       "<Figure size 1000x500 with 1 Axes>"
      ]
     },
     "metadata": {},
     "output_type": "display_data"
    }
   ],
   "source": [
    "# Plot null distribution\n",
    "plt.figure(figsize=(10, 5))\n",
    "sns.histplot(perm_distr, kde=True, color='gray')\n",
    "plt.axvline(obs_stat, color='red', linestyle='dashed', label='Observed Difference')\n",
    "plt.legend()\n",
    "plt.title(\"Permutation Test: Null Distribution of Mean Rating Differences\")\n",
    "plt.xlabel(\"Difference in Mean Ratings\")\n",
    "plt.ylabel(\"Frequency\")\n",
    "plt.show()"
   ]
  },
  {
   "cell_type": "markdown",
   "metadata": {},
   "source": [
    "### Conclusion\n",
    "- **Observed Difference in Mean Ratings:** -0.01299\n",
    "- **P-Value from Permutation Test:** 0.314\n",
    "- The p-value **is greater than** 0.05, meaning we **fail to reject** the null hypothesis.\n",
    "- This indicates that the number of ingredients **does not have a statistically significant effect** on recipe ratings.\n",
    "- While there may be minor variations in mean ratings, these differences **can be explained by random chance**.\n",
    "- We do **not** have enough evidence to conclude that `n_ingredients` influences `rating` significantly."
   ]
  },
  {
   "cell_type": "markdown",
   "metadata": {},
   "source": [
    "## Step 5: Framing a Prediction Problem"
   ]
  },
  {
   "cell_type": "markdown",
   "metadata": {
    "ExecuteTime": {
     "end_time": "2019-10-31T23:36:28.657068Z",
     "start_time": "2019-10-31T23:36:28.654650Z"
    }
   },
   "source": [
    "### 1️⃣ Defining the Prediction Problem\n",
    "- We aim to predict the **rating** of a recipe based on its attributes.\n",
    "- **Response Variable (Target):** `rating` (1-5 scale)\n",
    "- **Features (Predictors):**\n",
    "  - `n_ingredients`: Number of ingredients\n",
    "  - `minutes`: Cooking time\n",
    "  - `n_steps`: Number of steps\n",
    "  - `nutrition`: Calories, fat, protein, etc.\n",
    "  - `tags`: Cuisine and dietary labels\n",
    "  - `description`: Text-based features\n",
    "\n",
    "### 2️⃣ Prediction Type\n",
    "- Since `rating` is a **numerical variable (1-5 scale)**, we will treat this as a **regression problem**.\n",
    "- If we later decide to predict **high vs. low ratings**, we could frame it as a **classification problem**.\n",
    "\n",
    "### 3️⃣ Evaluation Metric\n",
    "- **Mean Squared Error (MSE)**: Penalizes large errors.\n",
    "- **Mean Absolute Error (MAE)**: Measures the average absolute deviation.\n",
    "- **R² Score**: Explains variance in ratings.\n",
    "\n",
    "### 4️⃣ Data Preparation\n",
    "- **Handle missing values** in `description` and `nutrition`.\n",
    "- **Feature engineering**: Standardize numerical features, encode categorical features.\n",
    "- **Train-test split**: Prepare the dataset for modeling."
   ]
  },
  {
   "cell_type": "code",
   "execution_count": 21,
   "metadata": {},
   "outputs": [
    {
     "name": "stdout",
     "output_type": "stream",
     "text": [
      "Training set size: (187542, 4)\n",
      "Test set size: (46886, 4)\n"
     ]
    }
   ],
   "source": [
    "# Merge and keep necessary columns\n",
    "recipes_final = recipes.merge(interactions, left_on='id', right_on='recipe_id', how='inner')\n",
    "\n",
    "# Select relevant columns for modeling\n",
    "recipes_final = recipes_final[['id', 'n_ingredients', 'minutes', 'n_steps', 'rating']]\n",
    "\n",
    "# Drop missing values in key features\n",
    "recipes_final = recipes_final.dropna(subset=['minutes', 'n_steps', 'rating'])\n",
    "\n",
    "# Select relevant columns\n",
    "features = ['n_ingredients', 'minutes', 'n_steps']  # We will expand this later\n",
    "response = 'rating'\n",
    "\n",
    "data = recipes_final[features + [response]].dropna()\n",
    "\n",
    "# Splitting into train and test sets\n",
    "train_df, test_df = train_test_split(data, test_size=0.2, random_state=42)\n",
    "\n",
    "print(f\"Training set size: {train_df.shape}\")\n",
    "print(f\"Test set size: {test_df.shape}\")"
   ]
  },
  {
   "cell_type": "markdown",
   "metadata": {},
   "source": [
    "### 5️⃣ Feature Engineering\n",
    "- **Standardize numerical features** (`n_ingredients`, `minutes`, `n_steps`).\n",
    "- **Encode categorical features** (`tags`, `description` if used later).\n",
    "- **Create a preprocessing pipeline** for model-ready data."
   ]
  },
  {
   "cell_type": "code",
   "execution_count": 22,
   "metadata": {},
   "outputs": [
    {
     "name": "stdout",
     "output_type": "stream",
     "text": [
      "Feature preprocessing complete. Ready for modeling!\n"
     ]
    }
   ],
   "source": [
    "numerical_features = ['n_ingredients', 'minutes', 'n_steps']\n",
    "categorical_features = []  # If we later include `tags`, etc.\n",
    "\n",
    "# Define preprocessing steps\n",
    "preprocessor = ColumnTransformer([\n",
    "    ('num', StandardScaler(), numerical_features),\n",
    "    ('cat', OneHotEncoder(handle_unknown='ignore'), categorical_features)\n",
    "])\n",
    "\n",
    "# Apply transformation\n",
    "X_train = preprocessor.fit_transform(train_df[features])\n",
    "X_test = preprocessor.transform(test_df[features])\n",
    "\n",
    "y_train = train_df[response]\n",
    "y_test = test_df[response]\n",
    "\n",
    "print(\"Feature preprocessing complete. Ready for modeling!\")"
   ]
  },
  {
   "cell_type": "markdown",
   "metadata": {},
   "source": [
    "## Step 6: Baseline Model"
   ]
  },
  {
   "cell_type": "markdown",
   "metadata": {
    "ExecuteTime": {
     "end_time": "2019-10-31T23:36:28.662099Z",
     "start_time": "2019-10-31T23:36:28.660016Z"
    }
   },
   "source": [
    "### 1️⃣ Define the Baseline Model\n",
    "- Our simplest baseline model predicts the **mean rating** for all recipes.\n",
    "- We compare this to a **Linear Regression model** trained on recipe attributes.\n",
    "\n",
    "### 2️⃣ Train a Linear Regression Model\n",
    "- Features: `n_ingredients`, `minutes`, `n_steps`\n",
    "- Target: `rating`\n",
    "\n",
    "### 3️⃣ Evaluate Model Performance\n",
    "- **Mean Squared Error (MSE)**\n",
    "- **Mean Absolute Error (MAE)**\n",
    "- **R² Score**"
   ]
  },
  {
   "cell_type": "code",
   "execution_count": 23,
   "metadata": {},
   "outputs": [
    {
     "name": "stdout",
     "output_type": "stream",
     "text": [
      "Baseline Model Performance:\n",
      "MSE: 1.7626, MAE: 0.8935, R²: -0.0000\n",
      "\n",
      "Linear Regression Model Performance:\n",
      "MSE: 1.7583, MAE: 0.8932, R²: 0.0025\n"
     ]
    }
   ],
   "source": [
    "# Splitting into train and test sets\n",
    "X_train, X_test, y_train, y_test = train_test_split(\n",
    "    data[features], data[response], test_size=0.2, random_state=42\n",
    ")\n",
    "\n",
    "# Baseline model: Predict the mean rating\n",
    "baseline_prediction = np.mean(y_train)\n",
    "y_pred_baseline = np.full(y_test.shape, baseline_prediction)\n",
    "\n",
    "# Train a Linear Regression model\n",
    "scaler = StandardScaler()\n",
    "X_train_scaled = scaler.fit_transform(X_train)\n",
    "X_test_scaled = scaler.transform(X_test)\n",
    "\n",
    "model = LinearRegression()\n",
    "model.fit(X_train_scaled, y_train)\n",
    "y_pred = model.predict(X_test_scaled)\n",
    "\n",
    "# Evaluate models\n",
    "baseline_mse = mean_squared_error(y_test, y_pred_baseline)\n",
    "model_mse = mean_squared_error(y_test, y_pred)\n",
    "\n",
    "baseline_mae = mean_absolute_error(y_test, y_pred_baseline)\n",
    "model_mae = mean_absolute_error(y_test, y_pred)\n",
    "\n",
    "baseline_r2 = r2_score(y_test, y_pred_baseline)\n",
    "model_r2 = r2_score(y_test, y_pred)\n",
    "\n",
    "# Print results\n",
    "print(\"Baseline Model Performance:\")\n",
    "print(f\"MSE: {baseline_mse:.4f}, MAE: {baseline_mae:.4f}, R²: {baseline_r2:.4f}\")\n",
    "\n",
    "print(\"\\nLinear Regression Model Performance:\")\n",
    "print(f\"MSE: {model_mse:.4f}, MAE: {model_mae:.4f}, R²: {model_r2:.4f}\")"
   ]
  },
  {
   "cell_type": "markdown",
   "metadata": {},
   "source": [
    "### 4️⃣ Interpretation of Results\n",
    "- The **baseline model** assumes all recipes have the same rating.\n",
    "- If the **Linear Regression model** has **lower MSE/MAE** and **higher R²**, it performs better.\n",
    "- If **R² is close to 0**, the features may not be good predictors of rating.\n",
    "- This gives us a starting point before trying more complex models."
   ]
  },
  {
   "cell_type": "markdown",
   "metadata": {},
   "source": [
    "### 5️⃣ Conclusion\n",
    "- **Baseline Model Performance:**\n",
    "  - **MSE:** 1.7626\n",
    "  - **MAE:** 0.8935\n",
    "  - **R²:** ≈ 0 (negative, meaning it explains no variance)\n",
    "\n",
    "- **Linear Regression Model Performance:**\n",
    "  - **MSE:** 1.7583 (slightly better than baseline)\n",
    "  - **MAE:** 0.8932 (almost the same as baseline)\n",
    "  - **R²:** 0.0025 (very close to zero, indicating weak predictive power)\n",
    "\n",
    "- **Key Takeaways:**\n",
    "  - The **low R² (0.0025)** suggests that `n_ingredients`, `minutes`, and `n_steps` **are not strong predictors** of `rating`.\n",
    "  - The **model barely improves over the baseline**, meaning we need **better features**.\n",
    "  - To improve performance, we should **add more relevant features**, such as:\n",
    "    - `nutrition` (calories, fat, protein, etc.)\n",
    "    - `tags` (categorical features—cuisine, dietary tags)\n",
    "    - `description` (use NLP techniques)"
   ]
  },
  {
   "cell_type": "markdown",
   "metadata": {},
   "source": [
    "## Step 7: Final Model"
   ]
  },
  {
   "cell_type": "markdown",
   "metadata": {
    "ExecuteTime": {
     "end_time": "2019-10-31T23:36:28.662099Z",
     "start_time": "2019-10-31T23:36:28.660016Z"
    }
   },
   "source": [
    "### 1️⃣ Adding New Features\n",
    "- **Nutrition Features**: Extract calories, fat, protein, carbs, etc.\n",
    "- **Text-Based Features**: Compute description and steps length.\n",
    "- **Categorical Features**: Encode `tags` (e.g., cuisine, dietary labels).\n",
    "\n",
    "### 2️⃣ Transformations & Encoding\n",
    "- **Numerical Features**: Standardize `minutes`, `n_ingredients`, `n_steps`, `calories`, etc.\n",
    "- **Categorical Features**: One-hot encode `tags`.\n",
    "- **Text Features**: Extract lengths of `description` and `steps`.\n",
    "\n",
    "### 3️⃣ Prepare Dataset for Modeling"
   ]
  },
  {
   "cell_type": "markdown",
   "metadata": {},
   "source": [
    "### Extract Nutrition Features\n",
    "- Convert the `nutrition` column (stored as a string) into separate numerical columns."
   ]
  },
  {
   "cell_type": "code",
   "execution_count": 24,
   "metadata": {},
   "outputs": [],
   "source": [
    "# Merge and retain `nutrition`\n",
    "recipes_final = recipes.merge(interactions, left_on='id', right_on='recipe_id', how='inner')\n",
    "\n",
    "# Ensure `nutrition` is retained\n",
    "recipes_final = recipes_final[['id', 'n_ingredients', 'minutes', 'n_steps', 'nutrition', 'description', 'steps', 'rating']]\n",
    "\n",
    "# Convert nutrition string to list\n",
    "nutrition_labels = ['calories', 'total_fat', 'sugar', 'sodium', 'protein', 'saturated_fat', 'carbohydrates']\n",
    "recipes_final['nutrition'] = recipes_final['nutrition'].apply(ast.literal_eval)\n",
    "\n",
    "# Create separate columns for nutrition values\n",
    "for i, label in enumerate(nutrition_labels):\n",
    "    recipes_final[label] = recipes_final['nutrition'].apply(lambda x: x[i] if isinstance(x, list) else np.nan)"
   ]
  },
  {
   "cell_type": "markdown",
   "metadata": {},
   "source": [
    "### Extract Text-Based Features\n",
    "- Compute `description_length` and `steps_length`."
   ]
  },
  {
   "cell_type": "code",
   "execution_count": 25,
   "metadata": {},
   "outputs": [],
   "source": [
    "recipes_final['description_length'] = recipes_final['description'].fillna('').apply(len)\n",
    "recipes_final['steps_length'] = recipes_final['steps'].fillna('').apply(lambda x: len(x.split()))"
   ]
  },
  {
   "cell_type": "markdown",
   "metadata": {},
   "source": [
    "### Encode Categorical Features\n",
    "- One-hot encode `tags` if available."
   ]
  },
  {
   "cell_type": "code",
   "execution_count": 26,
   "metadata": {},
   "outputs": [],
   "source": [
    "if 'tags' in recipes_final.columns:\n",
    "    recipes_final = recipes_final.dropna(subset=['tags'])\n",
    "    recipes_final = pd.get_dummies(recipes_final, columns=['tags'], drop_first=True)"
   ]
  },
  {
   "cell_type": "markdown",
   "metadata": {},
   "source": [
    "### Standardize Numerical Features\n",
    "- Scale `minutes`, `n_ingredients`, `n_steps`, and nutrition features."
   ]
  },
  {
   "cell_type": "code",
   "execution_count": 27,
   "metadata": {},
   "outputs": [],
   "source": [
    "num_features = ['minutes', 'n_ingredients', 'n_steps', 'calories', 'protein', 'sodium', 'description_length', 'steps_length']\n",
    "scaler = StandardScaler()\n",
    "recipes_final[num_features] = scaler.fit_transform(recipes_final[num_features])"
   ]
  },
  {
   "cell_type": "markdown",
   "metadata": {},
   "source": [
    "### Save the Processed Dataset"
   ]
  },
  {
   "cell_type": "code",
   "execution_count": 28,
   "metadata": {},
   "outputs": [
    {
     "name": "stdout",
     "output_type": "stream",
     "text": [
      "Feature engineering complete! Dataset ready for modeling.\n"
     ]
    }
   ],
   "source": [
    "recipes_final.to_csv(\"recipes_final_processed.csv\", index=False)\n",
    "\n",
    "print(\"Feature engineering complete! Dataset ready for modeling.\")"
   ]
  },
  {
   "cell_type": "code",
   "execution_count": 29,
   "metadata": {},
   "outputs": [
    {
     "name": "stdout",
     "output_type": "stream",
     "text": [
      "Linear Regression: MSE=1.7573, MAE=0.8932, R²=0.0030\n",
      "Decision Tree: MSE=2.3716, MAE=0.8956, R²=-0.3455\n",
      "Random Forest: MSE=1.9214, MAE=0.8658, R²=-0.0901\n"
     ]
    }
   ],
   "source": [
    "# Load processed dataset\n",
    "recipes_final = pd.read_csv(\"recipes_final_processed.csv\")\n",
    "\n",
    "# Define features and target\n",
    "features = ['n_ingredients', 'minutes', 'n_steps', 'calories', 'protein', 'sodium', 'description_length', 'steps_length']\n",
    "response = 'rating'\n",
    "\n",
    "data = recipes_final[features + [response]].dropna()\n",
    "X = data[features]\n",
    "y = data[response]\n",
    "\n",
    "# Train-test split\n",
    "X_train, X_test, y_train, y_test = train_test_split(X, y, test_size=0.2, random_state=42)\n",
    "\n",
    "# Initialize models\n",
    "models = {\n",
    "    \"Linear Regression\": LinearRegression(),\n",
    "    \"Decision Tree\": DecisionTreeRegressor(random_state=42),\n",
    "    \"Random Forest\": RandomForestRegressor(n_estimators=100, random_state=42)\n",
    "}\n",
    "\n",
    "# Function to evaluate models\n",
    "def evaluate_model(model, X_train, X_test, y_train, y_test):\n",
    "    model.fit(X_train, y_train)\n",
    "    y_pred = model.predict(X_test)\n",
    "    \n",
    "    mse = mean_squared_error(y_test, y_pred)\n",
    "    mae = mean_absolute_error(y_test, y_pred)\n",
    "    r2 = r2_score(y_test, y_pred)\n",
    "    \n",
    "    return mse, mae, r2\n",
    "\n",
    "# Train and evaluate all models\n",
    "results = {}\n",
    "for name, model in models.items():\n",
    "    mse, mae, r2 = evaluate_model(model, X_train, X_test, y_train, y_test)\n",
    "    results[name] = {\"MSE\": mse, \"MAE\": mae, \"R²\": r2}\n",
    "    print(f\"{name}: MSE={mse:.4f}, MAE={mae:.4f}, R²={r2:.4f}\")"
   ]
  },
  {
   "cell_type": "markdown",
   "metadata": {},
   "source": [
    "### 4️⃣ Conclusion\n",
    "- The best model has **lowest MSE/MAE** and **highest R²**.\n",
    "- If **R² is still low**, consider feature selection or more advanced models.\n",
    "- **Linear Regression** performed the best overall, with **MSE=1.7573** and **R²=0.0030**, but still had a very low R², indicating weak predictive power.\n",
    "- **Decision Tree Regressor** performed the worst, with **MSE=2.3716** and a **negative R² (-0.3455)**, suggesting overfitting and poor generalization.\n",
    "- **Random Forest Regressor** showed a slight improvement over Decision Tree but still performed poorly, with **MSE=1.9214** and **R²=-0.0901**."
   ]
  },
  {
   "cell_type": "markdown",
   "metadata": {},
   "source": [
    "## Step 8: Fairness Analysis"
   ]
  },
  {
   "cell_type": "code",
   "execution_count": 30,
   "metadata": {
    "ExecuteTime": {
     "end_time": "2019-10-31T23:36:28.666489Z",
     "start_time": "2019-10-31T23:36:28.664381Z"
    }
   },
   "outputs": [],
   "source": [
    "# TODO"
   ]
  },
  {
   "cell_type": "code",
   "execution_count": null,
   "metadata": {},
   "outputs": [],
   "source": []
  },
  {
   "cell_type": "code",
   "execution_count": null,
   "metadata": {},
   "outputs": [],
   "source": []
  },
  {
   "cell_type": "code",
   "execution_count": null,
   "metadata": {},
   "outputs": [],
   "source": []
  },
  {
   "cell_type": "code",
   "execution_count": null,
   "metadata": {},
   "outputs": [],
   "source": []
  },
  {
   "cell_type": "code",
   "execution_count": null,
   "metadata": {},
   "outputs": [],
   "source": []
  }
 ],
 "metadata": {
  "kernelspec": {
   "display_name": "Python 3 (ipykernel)",
   "language": "python",
   "name": "python3"
  },
  "language_info": {
   "codemirror_mode": {
    "name": "ipython",
    "version": 3
   },
   "file_extension": ".py",
   "mimetype": "text/x-python",
   "name": "python",
   "nbconvert_exporter": "python",
   "pygments_lexer": "ipython3",
   "version": "3.12.8"
  }
 },
 "nbformat": 4,
 "nbformat_minor": 4
}
